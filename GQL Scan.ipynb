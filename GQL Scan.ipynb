{
 "cells": [
  {
   "cell_type": "code",
   "execution_count": 1,
   "metadata": {
    "collapsed": true,
    "ExecuteTime": {
     "end_time": "2023-09-02T16:02:52.827048500Z",
     "start_time": "2023-09-02T16:02:52.762931900Z"
    }
   },
   "outputs": [],
   "source": [
    "import os\n",
    "import requests\n",
    "\n"
   ]
  },
  {
   "cell_type": "code",
   "execution_count": 4,
   "outputs": [
    {
     "name": "stdout",
     "output_type": "stream",
     "text": [
      "Dart: 58015543 LoC\n",
      "C++: 153912 LoC\n",
      "Objective-C: 101574 LoC\n",
      "CMake: 93764 LoC\n",
      "Java: 86110 LoC\n",
      "Groovy: 65010 LoC\n",
      "Shell: 52253 LoC\n",
      "Ruby: 42715 LoC\n",
      "JavaScript: 42682 LoC\n",
      "HTML: 32788 LoC\n",
      "Swift: 24862 LoC\n",
      "Batchfile: 16351 LoC\n",
      "Kotlin: 11708 LoC\n",
      "C: 6614 LoC\n",
      "CSS: 5955 LoC\n",
      "Dockerfile: 5180 LoC\n",
      "PowerShell: 4820 LoC\n",
      "GLSL: 3963 LoC\n",
      "Total LoC: 58765804\n"
     ]
    }
   ],
   "source": [
    "# Set your personal access token here or use environment variable\n",
    "with open('config.txt', 'r') as f:\n",
    "    access_token = f.read().strip()\n",
    "    f.close()\n",
    "\n",
    "\n",
    "# Replace with the name of the repository you want to analyze\n",
    "owner = 'flutter'\n",
    "repo_name = 'flutter'\n",
    "\n",
    "# Get the repository languages API URL\n",
    "languages_url = f'https://api.github.com/repos/{owner}/{repo_name}/languages'\n",
    "\n",
    "# Get the languages data\n",
    "languages_data = requests.get(languages_url, headers={'Authorization': f'token {access_token}'}).json()\n",
    "\n",
    "# Initialize the total LoC count\n",
    "total_loc = 0\n",
    "\n",
    "# Iterate over the languages data and sum up the LoC\n",
    "for language, loc in languages_data.items():\n",
    "    print(f'{language}: {loc} LoC')\n",
    "    total_loc += loc\n",
    "\n",
    "print(f'Total LoC: {total_loc}')"
   ],
   "metadata": {
    "collapsed": false,
    "ExecuteTime": {
     "end_time": "2023-09-02T16:06:57.899938800Z",
     "start_time": "2023-09-02T16:06:57.293262400Z"
    }
   }
  },
  {
   "cell_type": "code",
   "execution_count": 15,
   "outputs": [],
   "source": [
    "\n",
    "def get_lines_of_code(owner: str, repo_name: str):\n",
    "\n",
    "    # Get the repository languages API URL\n",
    "    languages_url = f'https://api.github.com/repos/{owner}/{repo_name}/languages'\n",
    "\n",
    "    # Get the languages data\n",
    "    languages_data = requests.get(languages_url, headers={'Authorization': f'token {access_token}'}).json()\n",
    "\n",
    "    # Initialize the total LoC count\n",
    "    total_loc = 0\n",
    "\n",
    "    # Iterate over the languages data and sum up the LoC\n",
    "    for language, loc in languages_data.items():\n",
    "        #print(f'{language}: {loc} LoC')\n",
    "        total_loc += loc\n",
    "\n",
    "    print(f'Total LoC: {total_loc}')"
   ],
   "metadata": {
    "collapsed": false,
    "ExecuteTime": {
     "end_time": "2023-09-02T16:25:27.185422Z",
     "start_time": "2023-09-02T16:25:27.178983700Z"
    }
   }
  },
  {
   "cell_type": "code",
   "execution_count": 8,
   "outputs": [],
   "source": [
    "def get_lines_of_code_from_input(input_str: str):\n",
    "    owner, repo_name = input_str.split('/')\n",
    "    get_lines_of_code(owner, repo_name)"
   ],
   "metadata": {
    "collapsed": false,
    "ExecuteTime": {
     "end_time": "2023-09-02T16:15:29.400427700Z",
     "start_time": "2023-09-02T16:15:29.388414700Z"
    }
   }
  },
  {
   "cell_type": "code",
   "execution_count": 6,
   "outputs": [
    {
     "name": "stdout",
     "output_type": "stream",
     "text": [
      "C++: 3767229 LoC\n",
      "Java: 3740101 LoC\n",
      "JavaScript: 2176597 LoC\n",
      "Objective-C++: 1555363 LoC\n",
      "Objective-C: 1335347 LoC\n",
      "Kotlin: 559769 LoC\n",
      "Ruby: 395442 LoC\n",
      "CMake: 82316 LoC\n",
      "TypeScript: 78790 LoC\n",
      "Shell: 76231 LoC\n",
      "C: 39049 LoC\n",
      "Assembly: 14920 LoC\n",
      "HTML: 1473 LoC\n",
      "Swift: 739 LoC\n",
      "Total LoC: 13823366\n"
     ]
    }
   ],
   "source": [
    "get_lines_of_code('facebook', 'react-native')"
   ],
   "metadata": {
    "collapsed": false,
    "ExecuteTime": {
     "end_time": "2023-09-02T16:13:31.751626Z",
     "start_time": "2023-09-02T16:13:31.136146600Z"
    }
   }
  },
  {
   "cell_type": "code",
   "execution_count": 7,
   "outputs": [
    {
     "name": "stdout",
     "output_type": "stream",
     "text": [
      "JavaScript: 1601248 LoC\n",
      "Java: 578801 LoC\n",
      "Objective-C: 502022 LoC\n",
      "TypeScript: 214956 LoC\n",
      "Ruby: 47982 LoC\n",
      "Objective-C++: 13116 LoC\n",
      "Shell: 12204 LoC\n",
      "Starlark: 1638 LoC\n",
      "CSS: 1131 LoC\n",
      "C: 376 LoC\n",
      "Total LoC: 2973474\n"
     ]
    }
   ],
   "source": [
    "get_lines_of_code('invertase', 'react-native-firebase')"
   ],
   "metadata": {
    "collapsed": false,
    "ExecuteTime": {
     "end_time": "2023-09-02T16:14:06.728479500Z",
     "start_time": "2023-09-02T16:14:06.156839100Z"
    }
   }
  },
  {
   "cell_type": "code",
   "execution_count": 10,
   "outputs": [
    {
     "name": "stdout",
     "output_type": "stream",
     "text": [
      "TypeScript: 24647 LoC\n",
      "JavaScript: 19674 LoC\n",
      "Total LoC: 44321\n"
     ]
    }
   ],
   "source": [
    "get_lines_of_code_from_input('expo/create-react-native-app')"
   ],
   "metadata": {
    "collapsed": false,
    "ExecuteTime": {
     "end_time": "2023-09-02T16:16:57.133041200Z",
     "start_time": "2023-09-02T16:16:56.440595700Z"
    }
   }
  },
  {
   "cell_type": "code",
   "execution_count": 14,
   "outputs": [
    {
     "name": "stdout",
     "output_type": "stream",
     "text": [
      "===========================\n",
      "lyswhut/lx-music-mobile\n",
      "TypeScript: 1218326 LoC\n",
      "JavaScript: 452046 LoC\n",
      "Java: 100413 LoC\n",
      "Ruby: 2332 LoC\n",
      "Objective-C: 2299 LoC\n",
      "Objective-C++: 1338 LoC\n",
      "Total LoC: 1776754\n",
      "===========================\n",
      "===========================\n",
      "status-im/status-mobile\n",
      "Clojure: 4730532 LoC\n",
      "Python: 946086 LoC\n",
      "Java: 144942 LoC\n",
      "Nix: 79753 LoC\n",
      "Shell: 76506 LoC\n",
      "C++: 67691 LoC\n",
      "Objective-C: 43830 LoC\n",
      "JavaScript: 42199 LoC\n",
      "Groovy: 29328 LoC\n",
      "Makefile: 17048 LoC\n",
      "Ruby: 13530 LoC\n",
      "Objective-C++: 12706 LoC\n",
      "Dockerfile: 3813 LoC\n",
      "Awk: 1746 LoC\n",
      "C: 1260 LoC\n",
      "Swift: 299 LoC\n",
      "Total LoC: 6211269\n",
      "===========================\n",
      "===========================\n",
      "galio-org/galio\n",
      "JavaScript: 70390 LoC\n",
      "Total LoC: 70390\n",
      "===========================\n",
      "===========================\n",
      "crazycodeboy/GitHubPopular\n",
      "JavaScript: 155697 LoC\n",
      "Objective-C: 5517 LoC\n",
      "Python: 1656 LoC\n",
      "Java: 1582 LoC\n",
      "Total LoC: 164452\n",
      "===========================\n",
      "===========================\n",
      "react-ui-kit/dribbble2react\n",
      "JavaScript: 238010 LoC\n",
      "Total LoC: 238010\n",
      "===========================\n",
      "===========================\n",
      "GetStream/stream-chat-react-native\n",
      "TypeScript: 2304056 LoC\n",
      "MDX: 1836791 LoC\n",
      "JavaScript: 310725 LoC\n",
      "Shell: 5728 LoC\n",
      "Python: 2366 LoC\n",
      "Makefile: 2299 LoC\n",
      "Total LoC: 4461965\n",
      "===========================\n",
      "===========================\n",
      "fullstackreact/react-native-firestack\n",
      "Java: 101682 LoC\n",
      "Objective-C: 90099 LoC\n",
      "JavaScript: 51207 LoC\n",
      "Ruby: 4075 LoC\n",
      "Shell: 2034 LoC\n",
      "Total LoC: 249097\n",
      "===========================\n",
      "===========================\n",
      "hayanisaid/React-Native-developer-roadmap\n",
      "Total LoC: 0\n",
      "===========================\n"
     ]
    }
   ],
   "source": [
    "react_list = ['lyswhut/lx-music-mobile','status-im/status-mobile','galio-org/galio', 'crazycodeboy/GitHubPopular','react-ui-kit/dribbble2react','GetStream/stream-chat-react-native','fullstackreact/react-native-firestack','hayanisaid/React-Native-developer-roadmap' ]\n",
    "for st_n in react_list:\n",
    "    print(\"===========================\")\n",
    "    print(st_n)\n",
    "    get_lines_of_code_from_input(st_n)\n",
    "    print(\"===========================\")"
   ],
   "metadata": {
    "collapsed": false,
    "ExecuteTime": {
     "end_time": "2023-09-02T16:22:39.215963100Z",
     "start_time": "2023-09-02T16:22:33.942966700Z"
    }
   }
  },
  {
   "cell_type": "code",
   "execution_count": 17,
   "outputs": [
    {
     "name": "stdout",
     "output_type": "stream",
     "text": [
      "- Solido/awesome-flutter\n",
      "Total LoC: 93995\n",
      "===========================\n",
      "- rustdesk/rustdesk\n",
      "Total LoC: 4702471\n",
      "===========================\n",
      "- AppFlowy-IO/AppFlowy\n",
      "Total LoC: 5801951\n",
      "===========================\n",
      "- iampawan/FlutterExampleApps\n",
      "Total LoC: 146\n",
      "===========================\n",
      "- mitesh77/Best-Flutter-UI-Templates\n",
      "Total LoC: 378356\n",
      "===========================\n",
      "- ReVanced/revanced-manager\n",
      "Total LoC: 331896\n",
      "===========================\n",
      "- Sangwan5688/BlackHole\n",
      "Total LoC: 1557687\n",
      "===========================\n",
      "- nisrulz/flutter-examples\n",
      "Total LoC: 753763\n",
      "===========================\n"
     ]
    }
   ],
   "source": [
    "flutter_list=['Solido/awesome-flutter','rustdesk/rustdesk','AppFlowy-IO/AppFlowy','iampawan/FlutterExampleApps','mitesh77/Best-Flutter-UI-Templates','ReVanced/revanced-manager','Sangwan5688/BlackHole','nisrulz/flutter-examples']\n",
    "\n",
    "for st_n in flutter_list:\n",
    "    print(\"-\",st_n)\n",
    "    get_lines_of_code_from_input(st_n)\n",
    "    print(\"===========================\")"
   ],
   "metadata": {
    "collapsed": false,
    "ExecuteTime": {
     "end_time": "2023-09-02T16:28:27.698370700Z",
     "start_time": "2023-09-02T16:28:22.545625200Z"
    }
   }
  },
  {
   "cell_type": "code",
   "execution_count": null,
   "outputs": [],
   "source": [],
   "metadata": {
    "collapsed": false
   }
  }
 ],
 "metadata": {
  "kernelspec": {
   "display_name": "Python 3",
   "language": "python",
   "name": "python3"
  },
  "language_info": {
   "codemirror_mode": {
    "name": "ipython",
    "version": 2
   },
   "file_extension": ".py",
   "mimetype": "text/x-python",
   "name": "python",
   "nbconvert_exporter": "python",
   "pygments_lexer": "ipython2",
   "version": "2.7.6"
  }
 },
 "nbformat": 4,
 "nbformat_minor": 0
}
